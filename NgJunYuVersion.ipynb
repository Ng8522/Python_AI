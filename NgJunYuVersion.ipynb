{
 "cells": [
  {
   "cell_type": "markdown",
   "id": "71c3a0d3",
   "metadata": {},
   "source": [
    "# Music Reommender System "
   ]
  },
  {
   "cell_type": "markdown",
   "id": "13530865",
   "metadata": {},
   "source": [
    "# Data Preparetion"
   ]
  },
  {
   "cell_type": "code",
   "execution_count": 52,
   "id": "6932d2d0",
   "metadata": {},
   "outputs": [],
   "source": [
    "import numpy as np\n",
    "import pandas as pd\n",
    "import matplotlib.pyplot as plt\n",
    "from sklearn.metrics.pairwise import cosine_similarity\n",
    "from sklearn.impute import SimpleImputer\n",
    "from joblib import dump, load\n",
    "import joblib\n",
    "\n",
    "import warnings\n",
    "warnings.filterwarnings('ignore')"
   ]
  },
  {
   "cell_type": "code",
   "execution_count": 53,
   "id": "493e979f",
   "metadata": {},
   "outputs": [
    {
     "data": {
      "text/html": [
       "<div>\n",
       "<style scoped>\n",
       "    .dataframe tbody tr th:only-of-type {\n",
       "        vertical-align: middle;\n",
       "    }\n",
       "\n",
       "    .dataframe tbody tr th {\n",
       "        vertical-align: top;\n",
       "    }\n",
       "\n",
       "    .dataframe thead th {\n",
       "        text-align: right;\n",
       "    }\n",
       "</style>\n",
       "<table border=\"1\" class=\"dataframe\">\n",
       "  <thead>\n",
       "    <tr style=\"text-align: right;\">\n",
       "      <th></th>\n",
       "      <th>Artist</th>\n",
       "      <th>Url_spotify</th>\n",
       "      <th>Track</th>\n",
       "      <th>Album</th>\n",
       "      <th>Album_type</th>\n",
       "      <th>Uri</th>\n",
       "      <th>Danceability</th>\n",
       "      <th>Energy</th>\n",
       "      <th>Key</th>\n",
       "      <th>Loudness</th>\n",
       "      <th>...</th>\n",
       "      <th>Url_youtube</th>\n",
       "      <th>Title</th>\n",
       "      <th>Channel</th>\n",
       "      <th>Views</th>\n",
       "      <th>Likes</th>\n",
       "      <th>Comments</th>\n",
       "      <th>Description</th>\n",
       "      <th>Licensed</th>\n",
       "      <th>official_video</th>\n",
       "      <th>Stream</th>\n",
       "    </tr>\n",
       "  </thead>\n",
       "  <tbody>\n",
       "    <tr>\n",
       "      <th>0</th>\n",
       "      <td>Gorillaz</td>\n",
       "      <td>https://open.spotify.com/artist/3AA28KZvwAUcZu...</td>\n",
       "      <td>Feel Good Inc.</td>\n",
       "      <td>Demon Days</td>\n",
       "      <td>album</td>\n",
       "      <td>spotify:track:0d28khcov6AiegSCpG5TuT</td>\n",
       "      <td>0.818</td>\n",
       "      <td>0.705</td>\n",
       "      <td>6.0</td>\n",
       "      <td>-6.679</td>\n",
       "      <td>...</td>\n",
       "      <td>https://www.youtube.com/watch?v=HyHNuVaZJ-k</td>\n",
       "      <td>Gorillaz - Feel Good Inc. (Official Video)</td>\n",
       "      <td>Gorillaz</td>\n",
       "      <td>693555221.0</td>\n",
       "      <td>6220896.0</td>\n",
       "      <td>169907.0</td>\n",
       "      <td>Official HD Video for Gorillaz' fantastic trac...</td>\n",
       "      <td>True</td>\n",
       "      <td>True</td>\n",
       "      <td>1.040235e+09</td>\n",
       "    </tr>\n",
       "    <tr>\n",
       "      <th>1</th>\n",
       "      <td>Gorillaz</td>\n",
       "      <td>https://open.spotify.com/artist/3AA28KZvwAUcZu...</td>\n",
       "      <td>Rhinestone Eyes</td>\n",
       "      <td>Plastic Beach</td>\n",
       "      <td>album</td>\n",
       "      <td>spotify:track:1foMv2HQwfQ2vntFf9HFeG</td>\n",
       "      <td>0.676</td>\n",
       "      <td>0.703</td>\n",
       "      <td>8.0</td>\n",
       "      <td>-5.815</td>\n",
       "      <td>...</td>\n",
       "      <td>https://www.youtube.com/watch?v=yYDmaexVHic</td>\n",
       "      <td>Gorillaz - Rhinestone Eyes [Storyboard Film] (...</td>\n",
       "      <td>Gorillaz</td>\n",
       "      <td>72011645.0</td>\n",
       "      <td>1079128.0</td>\n",
       "      <td>31003.0</td>\n",
       "      <td>The official video for Gorillaz - Rhinestone E...</td>\n",
       "      <td>True</td>\n",
       "      <td>True</td>\n",
       "      <td>3.100837e+08</td>\n",
       "    </tr>\n",
       "    <tr>\n",
       "      <th>2</th>\n",
       "      <td>Gorillaz</td>\n",
       "      <td>https://open.spotify.com/artist/3AA28KZvwAUcZu...</td>\n",
       "      <td>New Gold (feat. Tame Impala and Bootie Brown)</td>\n",
       "      <td>New Gold (feat. Tame Impala and Bootie Brown)</td>\n",
       "      <td>single</td>\n",
       "      <td>spotify:track:64dLd6rVqDLtkXFYrEUHIU</td>\n",
       "      <td>0.695</td>\n",
       "      <td>0.923</td>\n",
       "      <td>1.0</td>\n",
       "      <td>-3.930</td>\n",
       "      <td>...</td>\n",
       "      <td>https://www.youtube.com/watch?v=qJa-VFwPpYA</td>\n",
       "      <td>Gorillaz - New Gold ft. Tame Impala &amp; Bootie B...</td>\n",
       "      <td>Gorillaz</td>\n",
       "      <td>8435055.0</td>\n",
       "      <td>282142.0</td>\n",
       "      <td>7399.0</td>\n",
       "      <td>Gorillaz - New Gold ft. Tame Impala &amp; Bootie B...</td>\n",
       "      <td>True</td>\n",
       "      <td>True</td>\n",
       "      <td>6.306347e+07</td>\n",
       "    </tr>\n",
       "    <tr>\n",
       "      <th>3</th>\n",
       "      <td>Gorillaz</td>\n",
       "      <td>https://open.spotify.com/artist/3AA28KZvwAUcZu...</td>\n",
       "      <td>On Melancholy Hill</td>\n",
       "      <td>Plastic Beach</td>\n",
       "      <td>album</td>\n",
       "      <td>spotify:track:0q6LuUqGLUiCPP1cbdwFs3</td>\n",
       "      <td>0.689</td>\n",
       "      <td>0.739</td>\n",
       "      <td>2.0</td>\n",
       "      <td>-5.810</td>\n",
       "      <td>...</td>\n",
       "      <td>https://www.youtube.com/watch?v=04mfKJWDSzI</td>\n",
       "      <td>Gorillaz - On Melancholy Hill (Official Video)</td>\n",
       "      <td>Gorillaz</td>\n",
       "      <td>211754952.0</td>\n",
       "      <td>1788577.0</td>\n",
       "      <td>55229.0</td>\n",
       "      <td>Follow Gorillaz online:\\nhttp://gorillaz.com \\...</td>\n",
       "      <td>True</td>\n",
       "      <td>True</td>\n",
       "      <td>4.346636e+08</td>\n",
       "    </tr>\n",
       "    <tr>\n",
       "      <th>4</th>\n",
       "      <td>Gorillaz</td>\n",
       "      <td>https://open.spotify.com/artist/3AA28KZvwAUcZu...</td>\n",
       "      <td>Clint Eastwood</td>\n",
       "      <td>Gorillaz</td>\n",
       "      <td>album</td>\n",
       "      <td>spotify:track:7yMiX7n9SBvadzox8T5jzT</td>\n",
       "      <td>0.663</td>\n",
       "      <td>0.694</td>\n",
       "      <td>10.0</td>\n",
       "      <td>-8.627</td>\n",
       "      <td>...</td>\n",
       "      <td>https://www.youtube.com/watch?v=1V_xRb0x9aw</td>\n",
       "      <td>Gorillaz - Clint Eastwood (Official Video)</td>\n",
       "      <td>Gorillaz</td>\n",
       "      <td>618480958.0</td>\n",
       "      <td>6197318.0</td>\n",
       "      <td>155930.0</td>\n",
       "      <td>The official music video for Gorillaz - Clint ...</td>\n",
       "      <td>True</td>\n",
       "      <td>True</td>\n",
       "      <td>6.172597e+08</td>\n",
       "    </tr>\n",
       "  </tbody>\n",
       "</table>\n",
       "<p>5 rows × 27 columns</p>\n",
       "</div>"
      ],
      "text/plain": [
       "     Artist                                        Url_spotify  \\\n",
       "0  Gorillaz  https://open.spotify.com/artist/3AA28KZvwAUcZu...   \n",
       "1  Gorillaz  https://open.spotify.com/artist/3AA28KZvwAUcZu...   \n",
       "2  Gorillaz  https://open.spotify.com/artist/3AA28KZvwAUcZu...   \n",
       "3  Gorillaz  https://open.spotify.com/artist/3AA28KZvwAUcZu...   \n",
       "4  Gorillaz  https://open.spotify.com/artist/3AA28KZvwAUcZu...   \n",
       "\n",
       "                                           Track  \\\n",
       "0                                 Feel Good Inc.   \n",
       "1                                Rhinestone Eyes   \n",
       "2  New Gold (feat. Tame Impala and Bootie Brown)   \n",
       "3                             On Melancholy Hill   \n",
       "4                                 Clint Eastwood   \n",
       "\n",
       "                                           Album Album_type  \\\n",
       "0                                     Demon Days      album   \n",
       "1                                  Plastic Beach      album   \n",
       "2  New Gold (feat. Tame Impala and Bootie Brown)     single   \n",
       "3                                  Plastic Beach      album   \n",
       "4                                       Gorillaz      album   \n",
       "\n",
       "                                    Uri  Danceability  Energy   Key  Loudness  \\\n",
       "0  spotify:track:0d28khcov6AiegSCpG5TuT         0.818   0.705   6.0    -6.679   \n",
       "1  spotify:track:1foMv2HQwfQ2vntFf9HFeG         0.676   0.703   8.0    -5.815   \n",
       "2  spotify:track:64dLd6rVqDLtkXFYrEUHIU         0.695   0.923   1.0    -3.930   \n",
       "3  spotify:track:0q6LuUqGLUiCPP1cbdwFs3         0.689   0.739   2.0    -5.810   \n",
       "4  spotify:track:7yMiX7n9SBvadzox8T5jzT         0.663   0.694  10.0    -8.627   \n",
       "\n",
       "   ...                                  Url_youtube  \\\n",
       "0  ...  https://www.youtube.com/watch?v=HyHNuVaZJ-k   \n",
       "1  ...  https://www.youtube.com/watch?v=yYDmaexVHic   \n",
       "2  ...  https://www.youtube.com/watch?v=qJa-VFwPpYA   \n",
       "3  ...  https://www.youtube.com/watch?v=04mfKJWDSzI   \n",
       "4  ...  https://www.youtube.com/watch?v=1V_xRb0x9aw   \n",
       "\n",
       "                                               Title   Channel        Views  \\\n",
       "0         Gorillaz - Feel Good Inc. (Official Video)  Gorillaz  693555221.0   \n",
       "1  Gorillaz - Rhinestone Eyes [Storyboard Film] (...  Gorillaz   72011645.0   \n",
       "2  Gorillaz - New Gold ft. Tame Impala & Bootie B...  Gorillaz    8435055.0   \n",
       "3     Gorillaz - On Melancholy Hill (Official Video)  Gorillaz  211754952.0   \n",
       "4         Gorillaz - Clint Eastwood (Official Video)  Gorillaz  618480958.0   \n",
       "\n",
       "       Likes  Comments                                        Description  \\\n",
       "0  6220896.0  169907.0  Official HD Video for Gorillaz' fantastic trac...   \n",
       "1  1079128.0   31003.0  The official video for Gorillaz - Rhinestone E...   \n",
       "2   282142.0    7399.0  Gorillaz - New Gold ft. Tame Impala & Bootie B...   \n",
       "3  1788577.0   55229.0  Follow Gorillaz online:\\nhttp://gorillaz.com \\...   \n",
       "4  6197318.0  155930.0  The official music video for Gorillaz - Clint ...   \n",
       "\n",
       "  Licensed official_video        Stream  \n",
       "0     True           True  1.040235e+09  \n",
       "1     True           True  3.100837e+08  \n",
       "2     True           True  6.306347e+07  \n",
       "3     True           True  4.346636e+08  \n",
       "4     True           True  6.172597e+08  \n",
       "\n",
       "[5 rows x 27 columns]"
      ]
     },
     "execution_count": 53,
     "metadata": {},
     "output_type": "execute_result"
    }
   ],
   "source": [
    "music_data = pd.read_csv('Spotify_Youtube.csv', encoding='utf-8')\n",
    "music_data.head()"
   ]
  },
  {
   "cell_type": "code",
   "execution_count": 54,
   "id": "d1f90386",
   "metadata": {},
   "outputs": [
    {
     "data": {
      "text/plain": [
       "Artist                0\n",
       "Url_spotify           0\n",
       "Track                 0\n",
       "Album                 0\n",
       "Album_type            0\n",
       "Uri                   0\n",
       "Danceability          2\n",
       "Energy                2\n",
       "Key                   2\n",
       "Loudness              2\n",
       "Speechiness           2\n",
       "Acousticness          2\n",
       "Instrumentalness      2\n",
       "Liveness              2\n",
       "Valence               2\n",
       "Tempo                 2\n",
       "Duration_ms           2\n",
       "Url_youtube         470\n",
       "Title               470\n",
       "Channel             470\n",
       "Views               470\n",
       "Likes               541\n",
       "Comments            569\n",
       "Description         876\n",
       "Licensed            470\n",
       "official_video      470\n",
       "Stream              576\n",
       "dtype: int64"
      ]
     },
     "execution_count": 54,
     "metadata": {},
     "output_type": "execute_result"
    }
   ],
   "source": [
    "#find missing value\n",
    "music_data.isnull().sum()"
   ]
  },
  {
   "cell_type": "code",
   "execution_count": 55,
   "id": "bdbc3501",
   "metadata": {},
   "outputs": [
    {
     "data": {
      "text/plain": [
       "Artist              0\n",
       "Url_spotify         0\n",
       "Track               0\n",
       "Album               0\n",
       "Album_type          0\n",
       "Uri                 0\n",
       "Danceability        0\n",
       "Energy              0\n",
       "Key                 0\n",
       "Loudness            0\n",
       "Speechiness         0\n",
       "Acousticness        0\n",
       "Instrumentalness    0\n",
       "Liveness            0\n",
       "Valence             0\n",
       "Tempo               0\n",
       "Duration_ms         0\n",
       "Url_youtube         0\n",
       "Title               0\n",
       "Channel             0\n",
       "Views               0\n",
       "Likes               0\n",
       "Comments            0\n",
       "Description         0\n",
       "Licensed            0\n",
       "official_video      0\n",
       "Stream              0\n",
       "dtype: int64"
      ]
     },
     "execution_count": 55,
     "metadata": {},
     "output_type": "execute_result"
    }
   ],
   "source": [
    "#clear the data with missing values\n",
    "music_data.dropna(inplace=True)\n",
    "music_data.isnull().sum()"
   ]
  },
  {
   "cell_type": "code",
   "execution_count": 56,
   "id": "0eaca361",
   "metadata": {},
   "outputs": [
    {
     "data": {
      "text/plain": [
       "0"
      ]
     },
     "execution_count": 56,
     "metadata": {},
     "output_type": "execute_result"
    }
   ],
   "source": [
    "#check duplicate data\n",
    "music_data.duplicated().sum()"
   ]
  },
  {
   "cell_type": "code",
   "execution_count": 57,
   "id": "5c771eed",
   "metadata": {},
   "outputs": [
    {
     "data": {
      "text/plain": [
       "0"
      ]
     },
     "execution_count": 57,
     "metadata": {},
     "output_type": "execute_result"
    }
   ],
   "source": [
    "#delete duplicate data(in this dataset don't have so dismiss)\n",
    "music_data=music_data.drop_duplicates()\n",
    "music_data.duplicated().sum()"
   ]
  },
  {
   "cell_type": "code",
   "execution_count": 58,
   "id": "b51f14a8",
   "metadata": {},
   "outputs": [
    {
     "data": {
      "text/plain": [
       "(19170, 27)"
      ]
     },
     "execution_count": 58,
     "metadata": {},
     "output_type": "execute_result"
    }
   ],
   "source": [
    "#(row, column)\n",
    "music_data.shape"
   ]
  },
  {
   "cell_type": "code",
   "execution_count": 59,
   "id": "a96a139f",
   "metadata": {},
   "outputs": [
    {
     "data": {
      "text/plain": [
       "0           Gorillaz\n",
       "1           Gorillaz\n",
       "2           Gorillaz\n",
       "3           Gorillaz\n",
       "4           Gorillaz\n",
       "            ...     \n",
       "20713    SICK LEGEND\n",
       "20714    SICK LEGEND\n",
       "20715    SICK LEGEND\n",
       "20716    SICK LEGEND\n",
       "20717    SICK LEGEND\n",
       "Name: Artist, Length: 19170, dtype: object"
      ]
     },
     "execution_count": 59,
     "metadata": {},
     "output_type": "execute_result"
    }
   ],
   "source": [
    "music_data['Artist']"
   ]
  },
  {
   "cell_type": "markdown",
   "id": "45085b07",
   "metadata": {},
   "source": [
    "# Data Exploration"
   ]
  },
  {
   "cell_type": "code",
   "execution_count": 60,
   "id": "1336545b",
   "metadata": {},
   "outputs": [
    {
     "data": {
      "text/html": [
       "<div>\n",
       "<style scoped>\n",
       "    .dataframe tbody tr th:only-of-type {\n",
       "        vertical-align: middle;\n",
       "    }\n",
       "\n",
       "    .dataframe tbody tr th {\n",
       "        vertical-align: top;\n",
       "    }\n",
       "\n",
       "    .dataframe thead th {\n",
       "        text-align: right;\n",
       "    }\n",
       "</style>\n",
       "<table border=\"1\" class=\"dataframe\">\n",
       "  <thead>\n",
       "    <tr style=\"text-align: right;\">\n",
       "      <th></th>\n",
       "      <th>Danceability</th>\n",
       "      <th>Energy</th>\n",
       "      <th>Key</th>\n",
       "      <th>Loudness</th>\n",
       "      <th>Speechiness</th>\n",
       "      <th>Acousticness</th>\n",
       "      <th>Instrumentalness</th>\n",
       "      <th>Liveness</th>\n",
       "      <th>Valence</th>\n",
       "      <th>Tempo</th>\n",
       "      <th>Duration_ms</th>\n",
       "      <th>Views</th>\n",
       "      <th>Likes</th>\n",
       "      <th>Comments</th>\n",
       "      <th>Stream</th>\n",
       "    </tr>\n",
       "  </thead>\n",
       "  <tbody>\n",
       "    <tr>\n",
       "      <th>count</th>\n",
       "      <td>19170.000000</td>\n",
       "      <td>19170.000000</td>\n",
       "      <td>19170.000000</td>\n",
       "      <td>19170.000000</td>\n",
       "      <td>19170.000000</td>\n",
       "      <td>19170.000000</td>\n",
       "      <td>19170.000000</td>\n",
       "      <td>19170.000000</td>\n",
       "      <td>19170.000000</td>\n",
       "      <td>19170.000000</td>\n",
       "      <td>1.917000e+04</td>\n",
       "      <td>1.917000e+04</td>\n",
       "      <td>1.917000e+04</td>\n",
       "      <td>1.917000e+04</td>\n",
       "      <td>1.917000e+04</td>\n",
       "    </tr>\n",
       "    <tr>\n",
       "      <th>mean</th>\n",
       "      <td>0.621178</td>\n",
       "      <td>0.636150</td>\n",
       "      <td>5.292645</td>\n",
       "      <td>-7.615305</td>\n",
       "      <td>0.094944</td>\n",
       "      <td>0.287817</td>\n",
       "      <td>0.055476</td>\n",
       "      <td>0.191322</td>\n",
       "      <td>0.528267</td>\n",
       "      <td>120.607345</td>\n",
       "      <td>2.247612e+05</td>\n",
       "      <td>9.719768e+07</td>\n",
       "      <td>6.823531e+05</td>\n",
       "      <td>2.838656e+04</td>\n",
       "      <td>1.382746e+08</td>\n",
       "    </tr>\n",
       "    <tr>\n",
       "      <th>std</th>\n",
       "      <td>0.165533</td>\n",
       "      <td>0.213439</td>\n",
       "      <td>3.579947</td>\n",
       "      <td>4.617605</td>\n",
       "      <td>0.104931</td>\n",
       "      <td>0.285630</td>\n",
       "      <td>0.192768</td>\n",
       "      <td>0.165217</td>\n",
       "      <td>0.244996</td>\n",
       "      <td>29.588308</td>\n",
       "      <td>1.278468e+05</td>\n",
       "      <td>2.799997e+08</td>\n",
       "      <td>1.820550e+06</td>\n",
       "      <td>1.977979e+05</td>\n",
       "      <td>2.477309e+08</td>\n",
       "    </tr>\n",
       "    <tr>\n",
       "      <th>min</th>\n",
       "      <td>0.000000</td>\n",
       "      <td>0.000020</td>\n",
       "      <td>0.000000</td>\n",
       "      <td>-46.251000</td>\n",
       "      <td>0.000000</td>\n",
       "      <td>0.000001</td>\n",
       "      <td>0.000000</td>\n",
       "      <td>0.014500</td>\n",
       "      <td>0.000000</td>\n",
       "      <td>0.000000</td>\n",
       "      <td>3.098500e+04</td>\n",
       "      <td>2.600000e+01</td>\n",
       "      <td>0.000000e+00</td>\n",
       "      <td>0.000000e+00</td>\n",
       "      <td>6.574000e+03</td>\n",
       "    </tr>\n",
       "    <tr>\n",
       "      <th>25%</th>\n",
       "      <td>0.520000</td>\n",
       "      <td>0.510000</td>\n",
       "      <td>2.000000</td>\n",
       "      <td>-8.745000</td>\n",
       "      <td>0.035700</td>\n",
       "      <td>0.043600</td>\n",
       "      <td>0.000000</td>\n",
       "      <td>0.094100</td>\n",
       "      <td>0.338000</td>\n",
       "      <td>96.997500</td>\n",
       "      <td>1.802670e+05</td>\n",
       "      <td>2.070213e+06</td>\n",
       "      <td>2.447350e+04</td>\n",
       "      <td>5.830000e+02</td>\n",
       "      <td>1.786937e+07</td>\n",
       "    </tr>\n",
       "    <tr>\n",
       "      <th>50%</th>\n",
       "      <td>0.639000</td>\n",
       "      <td>0.667000</td>\n",
       "      <td>5.000000</td>\n",
       "      <td>-6.504000</td>\n",
       "      <td>0.050600</td>\n",
       "      <td>0.188000</td>\n",
       "      <td>0.000002</td>\n",
       "      <td>0.125000</td>\n",
       "      <td>0.535000</td>\n",
       "      <td>119.969000</td>\n",
       "      <td>2.133210e+05</td>\n",
       "      <td>1.568959e+07</td>\n",
       "      <td>1.332770e+05</td>\n",
       "      <td>3.515500e+03</td>\n",
       "      <td>5.037938e+07</td>\n",
       "    </tr>\n",
       "    <tr>\n",
       "      <th>75%</th>\n",
       "      <td>0.742000</td>\n",
       "      <td>0.798000</td>\n",
       "      <td>8.000000</td>\n",
       "      <td>-4.918500</td>\n",
       "      <td>0.104000</td>\n",
       "      <td>0.469000</td>\n",
       "      <td>0.000436</td>\n",
       "      <td>0.234000</td>\n",
       "      <td>0.724000</td>\n",
       "      <td>139.946000</td>\n",
       "      <td>2.519630e+05</td>\n",
       "      <td>7.369040e+07</td>\n",
       "      <td>5.423462e+05</td>\n",
       "      <td>1.494100e+04</td>\n",
       "      <td>1.407579e+08</td>\n",
       "    </tr>\n",
       "    <tr>\n",
       "      <th>max</th>\n",
       "      <td>0.975000</td>\n",
       "      <td>1.000000</td>\n",
       "      <td>11.000000</td>\n",
       "      <td>0.920000</td>\n",
       "      <td>0.964000</td>\n",
       "      <td>0.996000</td>\n",
       "      <td>1.000000</td>\n",
       "      <td>1.000000</td>\n",
       "      <td>0.993000</td>\n",
       "      <td>243.372000</td>\n",
       "      <td>4.676058e+06</td>\n",
       "      <td>8.079649e+09</td>\n",
       "      <td>5.078865e+07</td>\n",
       "      <td>1.608314e+07</td>\n",
       "      <td>3.386520e+09</td>\n",
       "    </tr>\n",
       "  </tbody>\n",
       "</table>\n",
       "</div>"
      ],
      "text/plain": [
       "       Danceability        Energy           Key      Loudness   Speechiness  \\\n",
       "count  19170.000000  19170.000000  19170.000000  19170.000000  19170.000000   \n",
       "mean       0.621178      0.636150      5.292645     -7.615305      0.094944   \n",
       "std        0.165533      0.213439      3.579947      4.617605      0.104931   \n",
       "min        0.000000      0.000020      0.000000    -46.251000      0.000000   \n",
       "25%        0.520000      0.510000      2.000000     -8.745000      0.035700   \n",
       "50%        0.639000      0.667000      5.000000     -6.504000      0.050600   \n",
       "75%        0.742000      0.798000      8.000000     -4.918500      0.104000   \n",
       "max        0.975000      1.000000     11.000000      0.920000      0.964000   \n",
       "\n",
       "       Acousticness  Instrumentalness      Liveness       Valence  \\\n",
       "count  19170.000000      19170.000000  19170.000000  19170.000000   \n",
       "mean       0.287817          0.055476      0.191322      0.528267   \n",
       "std        0.285630          0.192768      0.165217      0.244996   \n",
       "min        0.000001          0.000000      0.014500      0.000000   \n",
       "25%        0.043600          0.000000      0.094100      0.338000   \n",
       "50%        0.188000          0.000002      0.125000      0.535000   \n",
       "75%        0.469000          0.000436      0.234000      0.724000   \n",
       "max        0.996000          1.000000      1.000000      0.993000   \n",
       "\n",
       "              Tempo   Duration_ms         Views         Likes      Comments  \\\n",
       "count  19170.000000  1.917000e+04  1.917000e+04  1.917000e+04  1.917000e+04   \n",
       "mean     120.607345  2.247612e+05  9.719768e+07  6.823531e+05  2.838656e+04   \n",
       "std       29.588308  1.278468e+05  2.799997e+08  1.820550e+06  1.977979e+05   \n",
       "min        0.000000  3.098500e+04  2.600000e+01  0.000000e+00  0.000000e+00   \n",
       "25%       96.997500  1.802670e+05  2.070213e+06  2.447350e+04  5.830000e+02   \n",
       "50%      119.969000  2.133210e+05  1.568959e+07  1.332770e+05  3.515500e+03   \n",
       "75%      139.946000  2.519630e+05  7.369040e+07  5.423462e+05  1.494100e+04   \n",
       "max      243.372000  4.676058e+06  8.079649e+09  5.078865e+07  1.608314e+07   \n",
       "\n",
       "             Stream  \n",
       "count  1.917000e+04  \n",
       "mean   1.382746e+08  \n",
       "std    2.477309e+08  \n",
       "min    6.574000e+03  \n",
       "25%    1.786937e+07  \n",
       "50%    5.037938e+07  \n",
       "75%    1.407579e+08  \n",
       "max    3.386520e+09  "
      ]
     },
     "execution_count": 60,
     "metadata": {},
     "output_type": "execute_result"
    }
   ],
   "source": [
    "music_data.describe()"
   ]
  },
  {
   "cell_type": "code",
   "execution_count": 61,
   "id": "37e9986c",
   "metadata": {},
   "outputs": [
    {
     "name": "stdout",
     "output_type": "stream",
     "text": [
      "The total views track in the songs list is:  1863279590430\n",
      "The most views track in the songs list is:  8079649362\n",
      "The least views tracks in the songs list is:  26\n",
      "The mean views tracks in the songs list is:  97197683.3818\n",
      "The median views tracks in the songs list is:  15689592.0\n",
      "The standard deviation likes tracks in the songs list is:  279992360.1489\n"
     ]
    }
   ],
   "source": [
    "views = music_data['Views']\n",
    "total_views = views.sum()\n",
    "print(\"The total views track in the songs list is: \", int(total_views))\n",
    "max_views = views.max()\n",
    "print(\"The most views track in the songs list is: \", int(max_views))\n",
    "min_views = views.min()\n",
    "print(\"The least views tracks in the songs list is: \", int(min_views))\n",
    "mean_views = views.mean()\n",
    "print(\"The mean views tracks in the songs list is: \" , round(mean_views, 4))\n",
    "median_views = np.median(views)\n",
    "print(\"The median views tracks in the songs list is: \", round(median_views,4))\n",
    "std_views = np.std(views)\n",
    "print(\"The standard deviation likes tracks in the songs list is: \", round(std_views,4))"
   ]
  },
  {
   "cell_type": "code",
   "execution_count": 62,
   "id": "25ce7bf7",
   "metadata": {},
   "outputs": [
    {
     "name": "stdout",
     "output_type": "stream",
     "text": [
      "The total likes that given by the users is:  13080709788\n",
      "The most likes track in the songs list is:  50788652\n",
      "The least likes tracks in the songs list is:  0\n",
      "The mean likes tracks in the songs list is:  682353.1449\n",
      "The median likes tracks in the songs list is:  133277.0\n",
      "The standard deviation views tracks in the songs list is:  1820502.7046\n"
     ]
    }
   ],
   "source": [
    "likes = music_data['Likes']\n",
    "total_likes = likes.sum()\n",
    "print(\"The total likes that given by the users is: \", int(total_likes))\n",
    "max_likes = likes.max()\n",
    "print(\"The most likes track in the songs list is: \", int(max_likes))\n",
    "min_likes = likes.min()\n",
    "print(\"The least likes tracks in the songs list is: \", int(min_likes))\n",
    "mean_likes = likes.mean()\n",
    "print(\"The mean likes tracks in the songs list is: \" , round(mean_likes, 4))\n",
    "median_likes = np.median(likes)\n",
    "print(\"The median likes tracks in the songs list is: \", round(median_likes,4))\n",
    "std_likes = np.std(likes)\n",
    "print(\"The standard deviation views tracks in the songs list is: \", round(std_likes,4))"
   ]
  },
  {
   "cell_type": "code",
   "execution_count": 63,
   "id": "9957967b",
   "metadata": {},
   "outputs": [
    {
     "name": "stdout",
     "output_type": "stream",
     "text": [
      "The total comments leave by the users is:  544170318\n",
      "The most comments track in the songs list is:  16083138\n",
      "The least comments tracks in the songs list is:  0\n",
      "The mean comments tracks in the songs list is:  28386.5581\n",
      "The median comments tracks in the songs list is:  3515.5\n",
      "The standard deviation comments tracks in the songs list is:  197792.7005\n"
     ]
    }
   ],
   "source": [
    "comments = music_data['Comments']\n",
    "total_comments = comments.sum()\n",
    "print(\"The total comments leave by the users is: \", int(total_comments))\n",
    "max_comments = comments.max()\n",
    "print(\"The most comments track in the songs list is: \", int(max_comments))\n",
    "min_comments = comments.min()\n",
    "print(\"The least comments tracks in the songs list is: \", int(min_comments))\n",
    "mean_comments = comments.mean()\n",
    "print(\"The mean comments tracks in the songs list is: \" , round(mean_comments, 4))\n",
    "median_comments = np.median(comments)\n",
    "print(\"The median comments tracks in the songs list is: \", round(median_comments,4))\n",
    "std_comments = np.std(comments)\n",
    "print(\"The standard deviation comments tracks in the songs list is: \", round(std_comments,4))"
   ]
  },
  {
   "cell_type": "markdown",
   "id": "4197dd26",
   "metadata": {},
   "source": [
    "# Data Visualization "
   ]
  },
  {
   "cell_type": "code",
   "execution_count": 64,
   "id": "7e73dd43",
   "metadata": {},
   "outputs": [
    {
     "data": {
      "image/png": "[encoded data removed]",
      "text/plain": [
       "<Figure size 800x800 with 1 Axes>"
      ]
     },
     "metadata": {},
     "output_type": "display_data"
    }
   ],
   "source": [
    "normalized_total_views = (total_views - min_views) / (max_views - min_views)\n",
    "normalized_total_likes = (total_likes - min_likes) / (max_likes - min_likes)\n",
    "normalized_total_comments = (total_comments - min_comments) / (max_comments - min_comments)\n",
    "\n",
    "categories = ['Views', 'Likes', 'Comments']\n",
    "normalized_totals = [normalized_total_views, normalized_total_likes, normalized_total_comments]\n",
    "\n",
    "plt.figure(figsize=(8, 8))\n",
    "plt.pie(normalized_totals, labels=categories, autopct='%1.1f%%', colors=['blue', 'green', 'orange'])\n",
    "plt.title('Min-Max Normalization of Total Views, Likes and Comments')\n",
    "plt.show()"
   ]
  },
  {
   "cell_type": "code",
   "execution_count": 65,
   "id": "3a471271",
   "metadata": {},
   "outputs": [
    {
     "data": {
      "image/png": "[encoded data removed]",
      "text/plain": [
       "<Figure size 800x600 with 1 Axes>"
      ]
     },
     "metadata": {},
     "output_type": "display_data"
    }
   ],
   "source": [
    "categories = ['Views', 'Likes', 'Comments']\n",
    "totals = [total_views, total_likes, total_comments]\n",
    "\n",
    "mean_totals = sum(totals) / len(totals)\n",
    "std_totals = np.std(totals)\n",
    "\n",
    "normalized_totals = [(x - mean_totals) / std_totals for x in totals]\n",
    "\n",
    "plt.figure(figsize=(8, 6))\n",
    "plt.bar(categories, normalized_totals, color=['blue', 'green', 'orange'])\n",
    "plt.axhline(0, color='gray', linewidth=0.5)  # Add horizontal line at y=0\n",
    "plt.title('Standard Deviation Normalized Total Views, Likes and Comments')\n",
    "plt.xlabel('Categories')\n",
    "plt.ylabel('Normalized Values')\n",
    "plt.show()\n"
   ]
  },
  {
   "cell_type": "markdown",
   "id": "b0b05c1c",
   "metadata": {},
   "source": [
    "#  Deployment"
   ]
  },
  {
   "cell_type": "code",
   "execution_count": 69,
   "id": "215fcb61",
   "metadata": {},
   "outputs": [
    {
     "name": "stdout",
     "output_type": "stream",
     "text": [
      "Top 10 tracks similar to Feel Good Inc. based on Collaborative Filtering:\n",
      "- Track: A Little Bit Off\n",
      "  Similarity Score: 0.9999999999369806\n",
      "- Track: Dirty Harry\n",
      "  Similarity Score: 0.9999999999321422\n",
      "- Track: Looking at Me\n",
      "  Similarity Score: 0.9999999999231627\n",
      "- Track: Same God (feat. Jonsal Barrientes)\n",
      "  Similarity Score: 0.9999999999086852\n",
      "- Track: Blue Laces 2\n",
      "  Similarity Score: 0.9999999998923077\n",
      "- Track: Que No, Que No\n",
      "  Similarity Score: 0.9999999998175947\n",
      "- Track: Renegades\n",
      "  Similarity Score: 0.9999999996156652\n",
      "- Track: Soy El Ratón\n",
      "  Similarity Score: 0.999999999591226\n",
      "- Track: Never Tear Us Apart\n",
      "  Similarity Score: 0.9999999995371304\n",
      "- Track: Taaron Ke Shehar\n",
      "  Similarity Score: 0.9999999994844831\n",
      "Collaborative filtering model saved successfully.\n"
     ]
    },
    {
     "data": {
      "text/plain": [
       "['collab_filtering_result.joblib']"
      ]
     },
     "execution_count": 69,
     "metadata": {},
     "output_type": "execute_result"
    }
   ],
   "source": [
    "def collaborative_filtering(track_title):\n",
    "    similarity_matrix = cosine_similarity(music_data[['Likes', 'Views', 'Comments']])\n",
    "    \n",
    "    track_index = music_data[music_data['Track'] == track_title].index[0]\n",
    "    \n",
    "    similar_tracks = list(enumerate(similarity_matrix[track_index]))\n",
    "    \n",
    "    sorted_similar_tracks = sorted(similar_tracks, key=lambda x: x[1], reverse=True)\n",
    "    \n",
    "    top_similar_tracks = sorted_similar_tracks[1:11]\n",
    "    \n",
    "    # Return top similar tracks\n",
    "    return top_similar_tracks\n",
    "\n",
    "# Testing\n",
    "track_title = \"Feel Good Inc.\"\n",
    "collab_filtering_result = collaborative_filtering(track_title)\n",
    "print(\"Top 10 tracks similar to\", track_title, \"based on Collaborative Filtering:\")\n",
    "\n",
    "for track in collab_filtering_result:\n",
    "    print(\"- Track:\", music_data.iloc[track[0]]['Track'])\n",
    "    print(\"  Similarity Score:\", track[1])\n",
    "\n",
    "dump(collab_filtering_result, 'music_recommender_model_collaborative.joblib')\n",
    "print(\"Collaborative filtering model saved successfully.\")\n",
    "\n",
    "dump(collab_filtering_result, 'collab_filtering_result.joblib')"
   ]
  },
  {
   "cell_type": "code",
   "execution_count": null,
   "id": "460b9666",
   "metadata": {},
   "outputs": [],
   "source": [
    "import difflib\n",
    "\n",
    "def find_closest_match(user_input):\n",
    "    track_titles = music_data['Track'].tolist()\n",
    "    \n",
    "    closest_matches = difflib.get_close_matches(user_input, track_titles, n=1, cutoff=0.6)\n",
    "    \n",
    "    if closest_matches:\n",
    "        return closest_matches[0]\n",
    "    else:\n",
    "        return None\n",
    "    \n",
    "track_title = input(\"Enter the title of the track: \")\n",
    "\n",
    "closest_match = find_closest_match(track_title)\n",
    "\n",
    "if closest_match:\n",
    "    print(\"Closest match found:\", closest_match)\n",
    "    collab_filtering_result = collaborative_filtering(closest_match)\n",
    "    print(\"\\nTop 10 tracks similar to\", closest_match, \"based on Collaborative Filtering:\")\n",
    "    for track in collab_filtering_result:\n",
    "        print(music_data.iloc[track[0]]['Track'])\n",
    "else:\n",
    "    print(\"There's no track such as\", track_title, \"Please enter another title\")"
   ]
  },
  {
   "cell_type": "code",
   "execution_count": null,
   "id": "6f34fc73",
   "metadata": {},
   "outputs": [],
   "source": []
  },
  {
   "cell_type": "code",
   "execution_count": null,
   "id": "d725ed42",
   "metadata": {},
   "outputs": [],
   "source": []
  }
 ],
 "metadata": {
  "kernelspec": {
   "display_name": "Python 3 (ipykernel)",
   "language": "python",
   "name": "python3"
  },
  "language_info": {
   "codemirror_mode": {
    "name": "ipython",
    "version": 3
   },
   "file_extension": ".py",
   "mimetype": "text/x-python",
   "name": "python",
   "nbconvert_exporter": "python",
   "pygments_lexer": "ipython3",
   "version": "3.11.5"
  }
 },
 "nbformat": 4,
 "nbformat_minor": 5
}
